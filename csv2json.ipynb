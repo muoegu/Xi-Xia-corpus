{
 "cells": [
  {
   "cell_type": "code",
   "execution_count": 1,
   "metadata": {},
   "outputs": [
    {
     "name": "stdout",
     "output_type": "stream",
     "text": [
      "Transformed JSON saved to 論語全解2.json\n"
     ]
    }
   ],
   "source": [
    "import csv\n",
    "import json\n",
    "\n",
    "def csv_to_json(input_file, output_file):\n",
    "    with open(input_file, newline='', encoding='utf-8') as infile:\n",
    "        reader = csv.reader(infile)\n",
    "        rows = list(reader)\n",
    "    \n",
    "    corpus_data = []  # JSONデータを保持するリスト\n",
    "    \n",
    "    current_set = {}  # 現在処理中のセットを保持する変数\n",
    "    text_entries = []  # テキストエントリを保持するリスト\n",
    "\n",
    "    for i, row in enumerate(rows):\n",
    "        if not any(row):  # 空行の検出\n",
    "            if current_set:  # 既存のセットがある場合\n",
    "                # 空のエントリを除外\n",
    "                current_set[\"text\"] = [entry for entry in text_entries if any(entry.values())]\n",
    "                corpus_data.append(current_set)\n",
    "                current_set = {}\n",
    "                text_entries = []\n",
    "            continue\n",
    "        \n",
    "        if i % 7 == 0:\n",
    "            current_set[\"id\"] = row[0]\n",
    "        elif i % 7 == 1:\n",
    "            unicode_list = row\n",
    "        elif i % 7 == 2:\n",
    "            character_list = row\n",
    "        elif i % 7 == 3:\n",
    "            pronunciation_list = row\n",
    "        elif i % 7 == 4:\n",
    "            chinese_list = row\n",
    "        elif i % 7 == 5:\n",
    "            current_set[\"metadata\"] = {\"meaning\": row[0]}\n",
    "            for u, c, p, ch in zip(unicode_list, character_list, pronunciation_list, chinese_list):\n",
    "                entry = {\n",
    "                    \"unicode\": u,\n",
    "                    \"character\": c,\n",
    "                    \"pronunciation\": p,\n",
    "                    \"chinese\": ch\n",
    "                }\n",
    "                text_entries.append(entry)\n",
    "    \n",
    "    if current_set:  # 最後のセットを追加\n",
    "        current_set[\"text\"] = [entry for entry in text_entries if any(entry.values())]\n",
    "        corpus_data.append(current_set)\n",
    "    \n",
    "    with open(output_file, 'w', encoding='utf-8') as outfile:\n",
    "        json.dump({\"corpus_data\": corpus_data}, outfile, ensure_ascii=False, indent=4)\n",
    "\n",
    "# 使用例\n",
    "input_file = '論語全解.csv'\n",
    "output_file = '論語全解2.json'\n",
    "csv_to_json(input_file, output_file)\n",
    "\n",
    "print(f\"Transformed JSON saved to {output_file}\")"
   ]
  },
  {
   "cell_type": "code",
   "execution_count": null,
   "metadata": {},
   "outputs": [],
   "source": []
  }
 ],
 "metadata": {
  "kernelspec": {
   "display_name": "Python 3",
   "language": "python",
   "name": "python3"
  },
  "language_info": {
   "codemirror_mode": {
    "name": "ipython",
    "version": 3
   },
   "file_extension": ".py",
   "mimetype": "text/x-python",
   "name": "python",
   "nbconvert_exporter": "python",
   "pygments_lexer": "ipython3",
   "version": "3.10.13"
  }
 },
 "nbformat": 4,
 "nbformat_minor": 2
}
